{
 "cells": [
  {
   "cell_type": "markdown",
   "id": "11c5dadd-b221-493c-8287-4aa8244b92dc",
   "metadata": {},
   "source": [
    "## **Student Grade Evaluator** ##\n",
    "Imagine you're a teacher who just finished grading your students' exams. You want a small program that automatically tells weather each student has passed or failed and also assigns them to a grade (A,B,C,D or F)"
   ]
  },
  {
   "cell_type": "code",
   "execution_count": 1,
   "id": "fe2d7f21-8e78-447c-ba28-8533962fe1ff",
   "metadata": {},
   "outputs": [
    {
     "name": "stdout",
     "output_type": "stream",
     "text": [
      "[85, 72, 90, 55, 40]\n",
      "Student 1: score = 85, grade = A\n",
      "Student 2: score = 72, grade = B\n",
      "Student 3: score = 90, grade = A\n",
      "Student 4: score = 55, grade = D\n",
      "Student 5: score = 40, grade = F\n"
     ]
    }
   ],
   "source": [
    "#creating a list of student scores\n",
    "\n",
    "studentScores = [85, 72, 90, 55, 40]\n",
    "print(studentScores)\n",
    "\n",
    "#function to grade a student\n",
    "\n",
    "def gradeStudent(score):\n",
    "    if score >= 80:\n",
    "        return \"A\"\n",
    "    elif score >=70:\n",
    "        return \"B\"\n",
    "    elif score >= 60:\n",
    "        return \"C\"\n",
    "    elif score >= 50:\n",
    "        return \"D\"\n",
    "    else:\n",
    "        return \"F\"\n",
    "\n",
    "#loop through scores \n",
    "\n",
    "for each, score in enumerate(studentScores, start = 1):\n",
    "    grade = gradeStudent(score)\n",
    "    print(f\"Student {each}: score = {score}, grade = {grade}\")"
   ]
  },
  {
   "cell_type": "markdown",
   "id": "2c294d90-a0c4-4a5e-9955-6d2be174a410",
   "metadata": {},
   "source": [
    "## **ATM Stimulator** ##\n",
    "You are building a mini-ATM system. When someone inserts their card, they can check their balance, deposit or withdraw money."
   ]
  },
  {
   "cell_type": "code",
   "execution_count": 2,
   "id": "9ccc3172-8ae5-4dd1-bf75-dc6d5974fbb5",
   "metadata": {},
   "outputs": [
    {
     "name": "stdout",
     "output_type": "stream",
     "text": [
      "Mini ATM System\n",
      "1. Check Balance\n",
      "2. Deposit Money\n",
      "3. Withdraw Money\n",
      "4. Exit\n"
     ]
    },
    {
     "name": "stdin",
     "output_type": "stream",
     "text": [
      "Enter your choice (1-4):  1\n"
     ]
    },
    {
     "name": "stdout",
     "output_type": "stream",
     "text": [
      "Your current balance is: 1000\n",
      "Mini ATM System\n",
      "1. Check Balance\n",
      "2. Deposit Money\n",
      "3. Withdraw Money\n",
      "4. Exit\n"
     ]
    },
    {
     "name": "stdin",
     "output_type": "stream",
     "text": [
      "Enter your choice (1-4):  2\n",
      "Enter amount to deposit:  500\n"
     ]
    },
    {
     "name": "stdout",
     "output_type": "stream",
     "text": [
      " 500.0 deposited successfully. New balance: 1500.0\n",
      "Mini ATM System\n",
      "1. Check Balance\n",
      "2. Deposit Money\n",
      "3. Withdraw Money\n",
      "4. Exit\n"
     ]
    },
    {
     "name": "stdin",
     "output_type": "stream",
     "text": [
      "Enter your choice (1-4):  3\n",
      "Enter amount to withdraw:  900\n"
     ]
    },
    {
     "name": "stdout",
     "output_type": "stream",
     "text": [
      " 900.0 withdrawn successfully. New balance: 600.0\n",
      "Mini ATM System\n",
      "1. Check Balance\n",
      "2. Deposit Money\n",
      "3. Withdraw Money\n",
      "4. Exit\n"
     ]
    },
    {
     "name": "stdin",
     "output_type": "stream",
     "text": [
      "Enter your choice (1-4):  4\n"
     ]
    },
    {
     "name": "stdout",
     "output_type": "stream",
     "text": [
      "Thank you for using our ATM. Goodbye!\n"
     ]
    }
   ],
   "source": [
    "def atmMachine():\n",
    "    balance = 1000 #Starting balance\n",
    "\n",
    "    while True:\n",
    "        #Options to user\n",
    "        print(\"Mini ATM System\")\n",
    "        print(\"1. Check Balance\")\n",
    "        print(\"2. Deposit Money\")\n",
    "        print(\"3. Withdraw Money\")\n",
    "        print(\"4. Exit\")\n",
    "\n",
    "        choice = input(\"Enter your choice (1-4): \")\n",
    "        \n",
    "        if choice == \"1\":\n",
    "            print(f\"Your current balance is: {balance}\")\n",
    "            \n",
    "        elif choice == \"2\":\n",
    "            amount = float(input(\"Enter amount to deposit: \"))\n",
    "            balance += amount\n",
    "            print(f\" {amount} deposited successfully. New balance: {balance}\")\n",
    "            \n",
    "        elif choice == \"3\":\n",
    "            amount = float(input(\"Enter amount to withdraw: \"))\n",
    "            if amount <= balance:\n",
    "                balance -= amount\n",
    "                print(f\" {amount} withdrawn successfully. New balance: {balance}\")\n",
    "            else:\n",
    "                print(\"Insufficient balance!\")\n",
    "                \n",
    "        elif choice == \"4\":\n",
    "            print(\"Thank you for using our ATM. Goodbye!\")\n",
    "            break #Exit the loop\n",
    "\n",
    "        else:\n",
    "            print(\"Invalid choice, please try again.\")\n",
    "\n",
    "            \n",
    "atmMachine()"
   ]
  },
  {
   "cell_type": "code",
   "execution_count": null,
   "id": "dd912a65-28cd-4098-be4a-4771c26be62d",
   "metadata": {},
   "outputs": [],
   "source": []
  }
 ],
 "metadata": {
  "kernelspec": {
   "display_name": "Python 3 (ipykernel)",
   "language": "python",
   "name": "python3"
  },
  "language_info": {
   "codemirror_mode": {
    "name": "ipython",
    "version": 3
   },
   "file_extension": ".py",
   "mimetype": "text/x-python",
   "name": "python",
   "nbconvert_exporter": "python",
   "pygments_lexer": "ipython3",
   "version": "3.13.5"
  }
 },
 "nbformat": 4,
 "nbformat_minor": 5
}
